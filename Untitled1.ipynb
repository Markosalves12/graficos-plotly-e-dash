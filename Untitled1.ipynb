{
 "cells": [
  {
   "cell_type": "code",
   "execution_count": 6,
   "id": "64217cea",
   "metadata": {},
   "outputs": [],
   "source": [
    "import pandas as pd\n",
    "import plotly.express as px\n",
    "import json\n",
    "\n",
    "caminho_geo_json = r\"C:\\Dashboardcovid19\\geojson\\brasil_estados.json\"\n",
    "caminho_geo_json = caminho_geo_json.replace(\"\\\\\", \"/\")\n",
    "\n",
    "caminho_df = r\"C:\\Dashboardcovid19\\Frames\\estadosxdespesas.csv\"\n",
    "caminho_df = caminho_df.replace(\"\\\\\", \"/\")\n",
    "\n",
    "df = pd.read_csv(caminho_df, encoding=\"latin-1\", delimiter=\",\")\n",
    "geojson = json.load(open(caminho_geo_json))\n",
    "\n",
    "fig1 = px.choropleth(df, geojson=geojson, locations='uf', color='valor', color_continuous_scale='greens',\n",
    "                    scope='south america', projection='mercator', )\n"
   ]
  },
  {
   "cell_type": "code",
   "execution_count": 11,
   "id": "607b38dc",
   "metadata": {},
   "outputs": [
    {
     "name": "stdout",
     "output_type": "stream",
     "text": [
      "Collecting jupyter_dash"
     ]
    },
    {
     "name": "stderr",
     "output_type": "stream",
     "text": [
      "  DEPRECATION: retrying is being installed using the legacy 'setup.py install' method, because it does not have a 'pyproject.toml' and the 'wheel' package is not installed. pip 23.1 will enforce this behaviour change. A possible replacement is to enable the '--use-pep517' option. Discussion can be found at https://github.com/pypa/pip/issues/8559\n",
      "\n",
      "[notice] A new release of pip available: 22.3 -> 22.3.1\n",
      "[notice] To update, run: python.exe -m pip install --upgrade pip\n"
     ]
    },
    {
     "name": "stdout",
     "output_type": "stream",
     "text": [
      "\n",
      "  Using cached jupyter_dash-0.4.2-py3-none-any.whl (23 kB)\n",
      "Collecting ipykernel\n",
      "  Downloading ipykernel-6.17.1-py3-none-any.whl (138 kB)\n",
      "     -------------------------------------- 138.6/138.6 kB 1.4 MB/s eta 0:00:00\n",
      "Requirement already satisfied: requests in c:\\users\\markos alves\\appdata\\local\\programs\\python\\python39\\lib\\site-packages (from jupyter_dash) (2.28.1)\n",
      "Collecting nest-asyncio\n",
      "  Using cached nest_asyncio-1.5.6-py3-none-any.whl (5.2 kB)\n",
      "Collecting retrying\n",
      "  Using cached retrying-1.3.3.tar.gz (10 kB)\n",
      "  Preparing metadata (setup.py): started\n",
      "  Preparing metadata (setup.py): finished with status 'done'\n",
      "Requirement already satisfied: dash in c:\\users\\markos alves\\appdata\\local\\programs\\python\\python39\\lib\\site-packages (from jupyter_dash) (2.6.2)\n",
      "Requirement already satisfied: flask in c:\\users\\markos alves\\appdata\\local\\programs\\python\\python39\\lib\\site-packages (from jupyter_dash) (2.2.2)\n",
      "Collecting ansi2html\n",
      "  Using cached ansi2html-1.8.0-py3-none-any.whl (16 kB)\n",
      "Collecting ipython\n",
      "  Downloading ipython-8.6.0-py3-none-any.whl (761 kB)\n",
      "     -------------------------------------- 761.1/761.1 kB 4.4 MB/s eta 0:00:00\n",
      "Requirement already satisfied: flask-compress in c:\\users\\markos alves\\appdata\\local\\programs\\python\\python39\\lib\\site-packages (from dash->jupyter_dash) (1.13)\n",
      "Requirement already satisfied: dash-html-components==2.0.0 in c:\\users\\markos alves\\appdata\\local\\programs\\python\\python39\\lib\\site-packages (from dash->jupyter_dash) (2.0.0)\n",
      "Requirement already satisfied: dash-core-components==2.0.0 in c:\\users\\markos alves\\appdata\\local\\programs\\python\\python39\\lib\\site-packages (from dash->jupyter_dash) (2.0.0)\n",
      "Requirement already satisfied: plotly>=5.0.0 in c:\\users\\markos alves\\appdata\\local\\programs\\python\\python39\\lib\\site-packages (from dash->jupyter_dash) (5.11.0)\n",
      "Requirement already satisfied: dash-table==5.0.0 in c:\\users\\markos alves\\appdata\\local\\programs\\python\\python39\\lib\\site-packages (from dash->jupyter_dash) (5.0.0)\n",
      "Requirement already satisfied: itsdangerous>=2.0 in c:\\users\\markos alves\\appdata\\local\\programs\\python\\python39\\lib\\site-packages (from flask->jupyter_dash) (2.1.2)\n",
      "Requirement already satisfied: importlib-metadata>=3.6.0 in c:\\users\\markos alves\\appdata\\local\\programs\\python\\python39\\lib\\site-packages (from flask->jupyter_dash) (5.0.0)\n",
      "Requirement already satisfied: click>=8.0 in c:\\users\\markos alves\\appdata\\local\\programs\\python\\python39\\lib\\site-packages (from flask->jupyter_dash) (8.1.3)\n",
      "Requirement already satisfied: Werkzeug>=2.2.2 in c:\\users\\markos alves\\appdata\\local\\programs\\python\\python39\\lib\\site-packages (from flask->jupyter_dash) (2.2.2)\n",
      "Requirement already satisfied: Jinja2>=3.0 in c:\\users\\markos alves\\appdata\\local\\programs\\python\\python39\\lib\\site-packages (from flask->jupyter_dash) (3.1.2)\n",
      "Collecting jupyter-client>=6.1.12\n",
      "  Downloading jupyter_client-7.4.5-py3-none-any.whl (132 kB)\n",
      "     -------------------------------------- 132.3/132.3 kB 2.6 MB/s eta 0:00:00\n",
      "Collecting pyzmq>=17\n",
      "  Downloading pyzmq-24.0.1-cp39-cp39-win_amd64.whl (999 kB)\n",
      "     -------------------------------------- 999.5/999.5 kB 3.7 MB/s eta 0:00:00\n",
      "Collecting debugpy>=1.0\n",
      "  Downloading debugpy-1.6.3-cp39-cp39-win_amd64.whl (4.6 MB)\n",
      "     ---------------------------------------- 4.6/4.6 MB 4.5 MB/s eta 0:00:00\n",
      "Collecting traitlets>=5.1.0\n",
      "  Downloading traitlets-5.5.0-py3-none-any.whl (107 kB)\n",
      "     -------------------------------------- 107.4/107.4 kB 2.1 MB/s eta 0:00:00\n",
      "Collecting matplotlib-inline>=0.1\n",
      "  Downloading matplotlib_inline-0.1.6-py3-none-any.whl (9.4 kB)\n",
      "Collecting psutil\n",
      "  Downloading psutil-5.9.4-cp36-abi3-win_amd64.whl (252 kB)\n",
      "     -------------------------------------- 252.5/252.5 kB 1.9 MB/s eta 0:00:00\n",
      "Collecting tornado>=6.1\n",
      "  Using cached tornado-6.2-cp37-abi3-win_amd64.whl (425 kB)\n",
      "Collecting packaging\n",
      "  Using cached packaging-21.3-py3-none-any.whl (40 kB)\n",
      "Collecting stack-data\n",
      "  Downloading stack_data-0.6.1-py3-none-any.whl (24 kB)\n",
      "Collecting jedi>=0.16\n",
      "  Using cached jedi-0.18.1-py2.py3-none-any.whl (1.6 MB)\n",
      "Collecting pickleshare\n",
      "  Using cached pickleshare-0.7.5-py2.py3-none-any.whl (6.9 kB)\n",
      "Collecting prompt-toolkit<3.1.0,>3.0.1\n",
      "  Downloading prompt_toolkit-3.0.32-py3-none-any.whl (382 kB)\n",
      "     -------------------------------------- 382.8/382.8 kB 3.4 MB/s eta 0:00:00\n",
      "Requirement already satisfied: colorama in c:\\users\\markos alves\\appdata\\local\\programs\\python\\python39\\lib\\site-packages (from ipython->jupyter_dash) (0.4.6)\n",
      "Collecting pygments>=2.4.0\n",
      "  Downloading Pygments-2.13.0-py3-none-any.whl (1.1 MB)\n",
      "     ---------------------------------------- 1.1/1.1 MB 4.4 MB/s eta 0:00:00\n",
      "Collecting decorator\n",
      "  Using cached decorator-5.1.1-py3-none-any.whl (9.1 kB)\n",
      "Collecting backcall\n",
      "  Using cached backcall-0.2.0-py2.py3-none-any.whl (11 kB)\n",
      "Requirement already satisfied: idna<4,>=2.5 in c:\\users\\markos alves\\appdata\\local\\programs\\python\\python39\\lib\\site-packages (from requests->jupyter_dash) (3.4)\n",
      "Requirement already satisfied: certifi>=2017.4.17 in c:\\users\\markos alves\\appdata\\local\\programs\\python\\python39\\lib\\site-packages (from requests->jupyter_dash) (2022.9.24)\n",
      "Requirement already satisfied: urllib3<1.27,>=1.21.1 in c:\\users\\markos alves\\appdata\\local\\programs\\python\\python39\\lib\\site-packages (from requests->jupyter_dash) (1.26.12)\n",
      "Requirement already satisfied: charset-normalizer<3,>=2 in c:\\users\\markos alves\\appdata\\local\\programs\\python\\python39\\lib\\site-packages (from requests->jupyter_dash) (2.1.1)\n",
      "Requirement already satisfied: six>=1.7.0 in c:\\users\\markos alves\\appdata\\local\\programs\\python\\python39\\lib\\site-packages (from retrying->jupyter_dash) (1.16.0)\n",
      "Requirement already satisfied: zipp>=0.5 in c:\\users\\markos alves\\appdata\\local\\programs\\python\\python39\\lib\\site-packages (from importlib-metadata>=3.6.0->flask->jupyter_dash) (3.10.0)\n",
      "Collecting parso<0.9.0,>=0.8.0\n",
      "  Using cached parso-0.8.3-py2.py3-none-any.whl (100 kB)\n",
      "Requirement already satisfied: MarkupSafe>=2.0 in c:\\users\\markos alves\\appdata\\local\\programs\\python\\python39\\lib\\site-packages (from Jinja2>=3.0->flask->jupyter_dash) (2.1.1)\n",
      "Collecting jupyter-core>=4.9.2\n",
      "  Downloading jupyter_core-5.0.0-py3-none-any.whl (91 kB)\n",
      "     ---------------------------------------- 91.1/91.1 kB 5.1 MB/s eta 0:00:00\n",
      "Requirement already satisfied: python-dateutil>=2.8.2 in c:\\users\\markos alves\\appdata\\local\\programs\\python\\python39\\lib\\site-packages (from jupyter-client>=6.1.12->ipykernel->jupyter_dash) (2.8.2)\n",
      "Collecting entrypoints\n",
      "  Using cached entrypoints-0.4-py3-none-any.whl (5.3 kB)\n",
      "Requirement already satisfied: tenacity>=6.2.0 in c:\\users\\markos alves\\appdata\\local\\programs\\python\\python39\\lib\\site-packages (from plotly>=5.0.0->dash->jupyter_dash) (8.1.0)\n",
      "Collecting wcwidth\n",
      "  Using cached wcwidth-0.2.5-py2.py3-none-any.whl (30 kB)\n",
      "Requirement already satisfied: brotli in c:\\users\\markos alves\\appdata\\local\\programs\\python\\python39\\lib\\site-packages (from flask-compress->dash->jupyter_dash) (1.0.9)\n",
      "Collecting pyparsing!=3.0.5,>=2.0.2\n",
      "  Using cached pyparsing-3.0.9-py3-none-any.whl (98 kB)\n",
      "Collecting executing>=1.2.0\n",
      "  Downloading executing-1.2.0-py2.py3-none-any.whl (24 kB)\n",
      "Collecting asttokens>=2.1.0\n",
      "  Downloading asttokens-2.1.0-py2.py3-none-any.whl (26 kB)\n",
      "Collecting pure-eval\n",
      "  Using cached pure_eval-0.2.2-py3-none-any.whl (11 kB)\n",
      "Collecting pywin32>=1.0\n",
      "  Downloading pywin32-305-cp39-cp39-win_amd64.whl (12.2 MB)\n",
      "     ---------------------------------------- 12.2/12.2 MB 4.0 MB/s eta 0:00:00\n",
      "Collecting platformdirs\n",
      "  Downloading platformdirs-2.5.3-py3-none-any.whl (14 kB)\n",
      "Installing collected packages: wcwidth, pywin32, pure-eval, pickleshare, executing, backcall, traitlets, tornado, retrying, pyzmq, pyparsing, pygments, psutil, prompt-toolkit, platformdirs, parso, nest-asyncio, entrypoints, decorator, debugpy, asttokens, ansi2html, stack-data, packaging, matplotlib-inline, jupyter-core, jedi, jupyter-client, ipython, ipykernel, jupyter_dash\n",
      "  Running setup.py install for retrying: started\n",
      "  Running setup.py install for retrying: finished with status 'done'\n",
      "Successfully installed ansi2html-1.8.0 asttokens-2.1.0 backcall-0.2.0 debugpy-1.6.3 decorator-5.1.1 entrypoints-0.4 executing-1.2.0 ipykernel-6.17.1 ipython-8.6.0 jedi-0.18.1 jupyter-client-7.4.5 jupyter-core-5.0.0 jupyter_dash-0.4.2 matplotlib-inline-0.1.6 nest-asyncio-1.5.6 packaging-21.3 parso-0.8.3 pickleshare-0.7.5 platformdirs-2.5.3 prompt-toolkit-3.0.32 psutil-5.9.4 pure-eval-0.2.2 pygments-2.13.0 pyparsing-3.0.9 pywin32-305 pyzmq-24.0.1 retrying-1.3.3 stack-data-0.6.1 tornado-6.2 traitlets-5.5.0 wcwidth-0.2.5\n"
     ]
    }
   ],
   "source": [
    "!pip install jupyter_dash"
   ]
  },
  {
   "cell_type": "code",
   "execution_count": 15,
   "id": "62ad917f",
   "metadata": {},
   "outputs": [],
   "source": [
    "import jupyter_dash as JD"
   ]
  },
  {
   "cell_type": "code",
   "execution_count": 20,
   "id": "d5d6095f",
   "metadata": {},
   "outputs": [
    {
     "name": "stdout",
     "output_type": "stream",
     "text": [
      "Dash is running on http://127.0.0.1:8050/\n",
      "\n",
      " * Serving Flask app \"__main__\" (lazy loading)\n",
      " * Environment: production\n",
      "\u001b[31m   WARNING: This is a development server. Do not use it in a production deployment.\u001b[0m\n",
      "\u001b[2m   Use a production WSGI server instead.\u001b[0m\n",
      " * Debug mode: on\n"
     ]
    },
    {
     "ename": "SystemExit",
     "evalue": "1",
     "output_type": "error",
     "traceback": [
      "An exception has occurred, use %tb to see the full traceback.\n",
      "\u001b[1;31mSystemExit\u001b[0m\u001b[1;31m:\u001b[0m 1\n"
     ]
    },
    {
     "name": "stderr",
     "output_type": "stream",
     "text": [
      "C:\\Users\\Markos Alves\\anaconda3copy\\lib\\site-packages\\IPython\\core\\interactiveshell.py:3377: UserWarning:\n",
      "\n",
      "To exit: use 'exit', 'quit', or Ctrl-D.\n",
      "\n"
     ]
    }
   ],
   "source": [
    "from dash import Dash, Input, Output, html, dcc\n",
    "import pandas as pd\n",
    "import plotly.express as px\n",
    "\n",
    "\n",
    "df = px.data.gapminder().query(\"year == 2007\").query(\"continent == 'Europe'\")\n",
    "df.loc[df['pop'] < 2.e6, 'country'] = 'Other countries'\n",
    "# Represent only large countries\n",
    "fig = px.pie(df, values='pop', names='country', title='Population of European continent')\n",
    "\n",
    "app = Dash()\n",
    "\n",
    "app.layout = html.Div(\n",
    "    [\n",
    "        html.H1('Gastos eleitorais - eleicoes 2021/1º Turno'),\n",
    "        dcc.Graph(id=\"awdwd\", figure = fig1)\n",
    "    ]\n",
    ")\n",
    "\n",
    "if __name__ == '__main__':\n",
    "    app.run_server(debug=True)"
   ]
  },
  {
   "cell_type": "code",
   "execution_count": null,
   "id": "ecea48f5",
   "metadata": {},
   "outputs": [],
   "source": []
  }
 ],
 "metadata": {
  "kernelspec": {
   "display_name": "Python 3 (ipykernel)",
   "language": "python",
   "name": "python3"
  },
  "language_info": {
   "codemirror_mode": {
    "name": "ipython",
    "version": 3
   },
   "file_extension": ".py",
   "mimetype": "text/x-python",
   "name": "python",
   "nbconvert_exporter": "python",
   "pygments_lexer": "ipython3",
   "version": "3.9.12"
  }
 },
 "nbformat": 4,
 "nbformat_minor": 5
}
